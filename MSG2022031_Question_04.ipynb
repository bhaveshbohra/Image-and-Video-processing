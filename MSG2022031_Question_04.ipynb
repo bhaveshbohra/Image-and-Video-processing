{
  "nbformat": 4,
  "nbformat_minor": 0,
  "metadata": {
    "colab": {
      "provenance": []
    },
    "kernelspec": {
      "name": "python3",
      "display_name": "Python 3"
    },
    "language_info": {
      "name": "python"
    }
  },
  "cells": [
    {
      "cell_type": "markdown",
      "source": [
        "#Q: 4 Closing"
      ],
      "metadata": {
        "id": "7Bty8RcKFHzj"
      }
    },
    {
      "cell_type": "code",
      "execution_count": 1,
      "metadata": {
        "colab": {
          "base_uri": "https://localhost:8080/",
          "height": 317
        },
        "id": "7z_gfV8OETmv",
        "outputId": "fc670755-b9c9-4e21-9865-615645edac4f"
      },
      "outputs": [
        {
          "output_type": "execute_result",
          "data": {
            "text/plain": [
              "<PIL.Image.Image image mode=L size=300x300 at 0x7F49EEE3E250>"
            ],
            "image/png": "[encoded data removed]"
          },
          "metadata": {},
          "execution_count": 1
        }
      ],
      "source": [
        "import numpy as np\n",
        "import matplotlib.pyplot as plt\n",
        "from PIL import Image\n",
        "import math\n",
        "\n",
        "img = Image.open(\"/content/closing.png\")\n",
        "img_arr = np.array(img, dtype = np.uint8)\n",
        "\n",
        "K = 22\n",
        "kernal = np.zeros((K,K), dtype=np.uint8)\n",
        "\n",
        "D0 = math.floor(K/2)\n",
        "centre = D0\n",
        "\n",
        "kernal = np.zeros((22,22), dtype = np.uint8)\n",
        "for i in range(K):\n",
        "  for j in range(K):\n",
        "    D_uv = np.sqrt((i-centre)**2 + (j-centre)**2)\n",
        "    if D_uv <= D0:\n",
        "      kernal[i][j] = 1\n",
        "    else:\n",
        "      kernal[i][j] = 0\n",
        "\n",
        "img_arr2 = np.zeros((np.size(img_arr, 0),np.size(img_arr, 1)), dtype = np.uint8)\n",
        "wall = math.floor(K/2)\n",
        "temp = np.zeros((22,22), dtype=np.uint8)\n",
        "product = np.zeros((22,22), dtype=np.uint8)\n",
        "\n",
        "for i in range(wall, np.size(img_arr2, 0)-wall+1):\n",
        "  for j in range(wall, np.size(img_arr2, 1)-wall+1):\n",
        "    temp = img_arr[i-wall:i+wall:1, j-wall:j+wall:1]\n",
        "    product = kernal * temp\n",
        "    img_arr2[i][j] = np.max(product)\n",
        "\n",
        "img_arr3 = np.empty_like(img_arr2)\n",
        "img_arr3[:] = img_arr2\n",
        "\n",
        "for i in range(wall, np.size(img_arr2, 0)-wall):\n",
        "  for j in range(wall, np.size(img_arr2, 1)-wall):\n",
        "    temp = img_arr2[i-wall:i+1+wall:1, j-wall:j+1+wall:1]\n",
        "    flag = 1\n",
        "    for x in range(22):\n",
        "      for y in range(22):\n",
        "        if kernal[x][y] == 1 and temp[x][y] != 1:\n",
        "          img_arr3[i][j] = 0\n",
        "          flag = 0\n",
        "          break\n",
        "      if flag == 0:\n",
        "        break\n",
        "    img_arr3[i][j] = img_arr3[i][j] * 255\n",
        "\n",
        "\n",
        "img2 = Image.fromarray(img_arr3)\n",
        "img2"
      ]
    }
  ]
}