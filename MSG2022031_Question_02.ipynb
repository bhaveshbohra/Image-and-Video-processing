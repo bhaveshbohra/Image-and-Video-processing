{
  "nbformat": 4,
  "nbformat_minor": 0,
  "metadata": {
    "colab": {
      "provenance": []
    },
    "kernelspec": {
      "name": "python3",
      "display_name": "Python 3"
    },
    "language_info": {
      "name": "python"
    }
  },
  "cells": [
    {
      "cell_type": "markdown",
      "source": [
        "Question : 02\n",
        "Perform Erosion operation using disk shaped structuring element"
      ],
      "metadata": {
        "id": "CnI94zAfEtJF"
      }
    },
    {
      "cell_type": "code",
      "execution_count": 1,
      "metadata": {
        "colab": {
          "base_uri": "https://localhost:8080/",
          "height": 401
        },
        "id": "inmoOYlQEXEE",
        "outputId": "37f3594c-0891-4d9d-a2f0-8bba50bf0c48"
      },
      "outputs": [
        {
          "output_type": "execute_result",
          "data": {
            "text/plain": [
              "<PIL.Image.Image image mode=L size=508x384 at 0x7FE45012E9D0>"
            ],
            "image/png": "[encoded data removed]"
          },
          "metadata": {},
          "execution_count": 1
        }
      ],
      "source": [
        "import numpy as np\n",
        "import matplotlib.pyplot as plt\n",
        "from PIL import Image\n",
        "import math\n",
        "\n",
        "img = Image.open(\"/content/erosion.png\")\n",
        "img_arr = np.array(img, dtype = np.uint8)\n",
        "\n",
        "K = 11\n",
        "kernal = np.zeros((K,K), dtype=np.uint8)\n",
        "\n",
        "D0 = math.floor(K/2)\n",
        "centre = D0\n",
        "\n",
        "kernal = np.zeros((11,11), dtype = np.uint8)\n",
        "for i in range(K):\n",
        "  for j in range(K):\n",
        "    D_uv = np.sqrt((i-centre)**2 + (j-centre)**2)\n",
        "    if D_uv <= D0:\n",
        "      kernal[i][j] = 1\n",
        "    else:\n",
        "      kernal[i][j] = 0\n",
        "\n",
        "img_arr2 = np.empty_like(img_arr)\n",
        "img_arr2[:] = img_arr\n",
        "wall = math.floor(K/2)\n",
        "temp = np.zeros((11,11), dtype=np.uint8)\n",
        "product = np.zeros((11,11), dtype=np.uint8)\n",
        "\n",
        "for i in range(wall, np.size(img_arr, 0)-wall):\n",
        "  for j in range(wall, np.size(img_arr, 1)-wall):\n",
        "    temp = img_arr[i-wall:i+1+wall:1, j-wall:j+1+wall:1]\n",
        "    flag = 1\n",
        "    for x in range(11):\n",
        "      for y in range(11):\n",
        "        if kernal[x][y] == 1 and temp[x][y] != 1:\n",
        "          img_arr2[i][j] = 0\n",
        "          flag = 0\n",
        "          break\n",
        "      if flag == 0:\n",
        "        break\n",
        "    img_arr2[i][j] = img_arr2[i][j] * 255\n",
        "\n",
        "img2 = Image.fromarray(img_arr2)\n",
        "img2"
      ]
    },
    {
      "cell_type": "markdown",
      "source": [],
      "metadata": {
        "id": "w5dK0lj2ErSP"
      }
    }
  ]
}