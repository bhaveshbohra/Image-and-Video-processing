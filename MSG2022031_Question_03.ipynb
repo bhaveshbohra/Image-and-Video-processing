{
  "nbformat": 4,
  "nbformat_minor": 0,
  "metadata": {
    "colab": {
      "provenance": [],
      "collapsed_sections": []
    },
    "kernelspec": {
      "name": "python3",
      "display_name": "Python 3"
    },
    "language_info": {
      "name": "python"
    }
  },
  "cells": [
    {
      "cell_type": "markdown",
      "source": [
        "# Q:03 Opening"
      ],
      "metadata": {
        "id": "Q7j42I_EE4sB"
      }
    },
    {
      "cell_type": "code",
      "execution_count": 1,
      "metadata": {
        "colab": {
          "base_uri": "https://localhost:8080/",
          "height": 467
        },
        "id": "auCbSt1pEWOK",
        "outputId": "de68cfe5-0bdc-4475-b77c-815b45a11f1b"
      },
      "outputs": [
        {
          "output_type": "execute_result",
          "data": {
            "text/plain": [
              "<PIL.Image.Image image mode=L size=450x450 at 0x7F58A2464F90>"
            ],
            "image/png": "[encoded data removed]"
          },
          "metadata": {},
          "execution_count": 1
        }
      ],
      "source": [
        "import numpy as np\n",
        "import matplotlib.pyplot as plt\n",
        "from PIL import Image\n",
        "import math\n",
        "\n",
        "img = Image.open(\"/content/opening.png\")\n",
        "img_arr = np.array(img, dtype = np.uint8)\n",
        "\n",
        "K = 11\n",
        "kernal = np.zeros((K,K), dtype=np.uint8)\n",
        "\n",
        "D0 = math.floor(K/2)\n",
        "centre = D0\n",
        "\n",
        "kernal = np.zeros((11,11), dtype = np.uint8)\n",
        "for i in range(K):\n",
        "  for j in range(K):\n",
        "    D_uv = np.sqrt((i-centre)**2 + (j-centre)**2)\n",
        "    if D_uv <= D0:\n",
        "      kernal[i][j] = 1\n",
        "    else:\n",
        "      kernal[i][j] = 0\n",
        "\n",
        "img_arr2 = np.empty_like(img_arr)\n",
        "img_arr2[:] = img_arr\n",
        "wall = math.floor(K/2)\n",
        "temp = np.zeros((11,11), dtype=np.uint8)\n",
        "product = np.zeros((11,11), dtype=np.uint8)\n",
        "\n",
        "for i in range(wall, np.size(img_arr, 0)-wall):\n",
        "  for j in range(wall, np.size(img_arr, 1)-wall):\n",
        "    temp = img_arr[i-wall:i+1+wall:1, j-wall:j+1+wall:1]\n",
        "    flag = 1\n",
        "    for x in range(11):\n",
        "      for y in range(11):\n",
        "        if kernal[x][y] == 1 and temp[x][y] != 1:\n",
        "          img_arr2[i][j] = 0\n",
        "          flag = 0\n",
        "          break\n",
        "      if flag == 0:\n",
        "        break\n",
        "\n",
        "img_arr3 = np.zeros((np.size(img_arr2, 0),np.size(img_arr2, 1)), dtype = np.uint8)\n",
        "\n",
        "for i in range(wall, np.size(img_arr2, 0)-wall):\n",
        "  for j in range(wall, np.size(img_arr2, 1)-wall):\n",
        "    temp = img_arr2[i-wall:i+1+wall:1, j-wall:j+1+wall:1]\n",
        "    product = kernal * temp\n",
        "    img_arr3[i][j] = np.max(product) * 255\n",
        "\n",
        "img2 = Image.fromarray(img_arr3)\n",
        "img2"
      ]
    }
  ]
}