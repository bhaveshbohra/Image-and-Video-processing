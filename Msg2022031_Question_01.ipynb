{
  "nbformat": 4,
  "nbformat_minor": 0,
  "metadata": {
    "colab": {
      "provenance": [],
      "collapsed_sections": []
    },
    "kernelspec": {
      "name": "python3",
      "display_name": "Python 3"
    },
    "language_info": {
      "name": "python"
    }
  },
  "cells": [
    {
      "cell_type": "markdown",
      "source": [
        "##ASSIGNMENT 5\n",
        "Question :01 \n",
        "Perform Dilation operation using (3 × 3) square structuring element on given image\n"
      ],
      "metadata": {
        "id": "icVNTWyhfkZD"
      }
    },
    {
      "cell_type": "code",
      "source": [
        "import numpy as np\n",
        "import matplotlib.pyplot as plt\n",
        "\n",
        "#Read the image for dilation\n",
        "\n",
        "img1= plt.imread(\"/content/dilation.png\")\n",
        "plt.imshow(img1)\n",
        "m,n= img1.shape #Acquire size of the image\n",
        "plt.imshow(img1, cmap=\"gray\")\n",
        "\n"
      ],
      "metadata": {
        "colab": {
          "base_uri": "https://localhost:8080/",
          "height": 287
        },
        "id": "ODruSgMXgUdF",
        "outputId": "815b5c17-b33a-4bde-f2ea-535f53c4dde0"
      },
      "execution_count": 1,
      "outputs": [
        {
          "output_type": "execute_result",
          "data": {
            "text/plain": [
              "<matplotlib.image.AxesImage at 0x7efcdc7c3dd0>"
            ]
          },
          "metadata": {},
          "execution_count": 1
        },
        {
          "output_type": "display_data",
          "data": {
            "text/plain": [
              "<Figure size 432x288 with 1 Axes>"
            ],
            "image/png": "[encoded data removed]"
          },
          "metadata": {
            "needs_background": "light"
          }
        }
      ]
    },
    {
      "cell_type": "code",
      "source": [
        "Kernel= np.ones((3,3), np.uint8) #kernel = structure element\n",
        "constant1= (3-1)//2\n"
      ],
      "metadata": {
        "id": "W5YuNfiVhfc8"
      },
      "execution_count": 2,
      "outputs": []
    },
    {
      "cell_type": "code",
      "source": [
        "#Define new image\n",
        "imgDilation= np.zeros((m,n),np.uint8)\n"
      ],
      "metadata": {
        "id": "CEHc4po6mln5"
      },
      "execution_count": 3,
      "outputs": []
    },
    {
      "cell_type": "code",
      "source": [
        "for i in range(constant1, m-constant1):\n",
        "  for j in range(constant1,n-constant1):\n",
        "    temp= img1[i-constant1:i+constant1+1, j-constant1:j+constant1+1]\n",
        "    product= temp*Kernel\n",
        "    imgDilation[i,j]= np.max(product)\n",
        "    "
      ],
      "metadata": {
        "id": "HA9HyJnCph7P"
      },
      "execution_count": 4,
      "outputs": []
    },
    {
      "cell_type": "code",
      "source": [
        "plt.imshow(imgDilation,cmap=\"gray\")"
      ],
      "metadata": {
        "colab": {
          "base_uri": "https://localhost:8080/",
          "height": 287
        },
        "id": "C5QtjdGHxlpP",
        "outputId": "25a3e116-35f2-4829-a592-6256da730a3a"
      },
      "execution_count": 5,
      "outputs": [
        {
          "output_type": "execute_result",
          "data": {
            "text/plain": [
              "<matplotlib.image.AxesImage at 0x7efcdc709e50>"
            ]
          },
          "metadata": {},
          "execution_count": 5
        },
        {
          "output_type": "display_data",
          "data": {
            "text/plain": [
              "<Figure size 432x288 with 1 Axes>"
            ],
            "image/png": "[encoded data removed]"
          },
          "metadata": {
            "needs_background": "light"
          }
        }
      ]
    }
  ]
}