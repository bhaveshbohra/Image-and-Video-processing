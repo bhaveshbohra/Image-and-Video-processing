{
  "nbformat": 4,
  "nbformat_minor": 0,
  "metadata": {
    "colab": {
      "provenance": []
    },
    "kernelspec": {
      "name": "python3",
      "display_name": "Python 3"
    },
    "language_info": {
      "name": "python"
    }
  },
  "cells": [
    {
      "cell_type": "markdown",
      "source": [
        "#Q:5 Boundary"
      ],
      "metadata": {
        "id": "4myzjVBEFUsB"
      }
    },
    {
      "cell_type": "code",
      "execution_count": 1,
      "metadata": {
        "colab": {
          "base_uri": "https://localhost:8080/",
          "height": 401
        },
        "id": "E3gfBt9uEPL8",
        "outputId": "0dc0a37b-87e9-4dae-994d-d3bf9ced434f"
      },
      "outputs": [
        {
          "output_type": "execute_result",
          "data": {
            "text/plain": [
              "<PIL.Image.Image image mode=L size=507x384 at 0x7F97755EDFD0>"
            ],
            "image/png": "[encoded data removed]"
          },
          "metadata": {},
          "execution_count": 1
        }
      ],
      "source": [
        "import numpy as np\n",
        "import matplotlib.pyplot as plt\n",
        "from PIL import Image\n",
        "import math\n",
        "\n",
        "img = Image.open(\"/content/Boundary_extraction.png\")\n",
        "img_arr = np.array(img, dtype = np.uint8)\n",
        "\n",
        "kernal = np.ones((3,3), dtype = np.uint8)\n",
        "\n",
        "img_arr2 = np.empty_like(img_arr)\n",
        "img_arr2[:] = img_arr\n",
        "wall = math.floor(3/2)\n",
        "temp = np.zeros((3,3), dtype=np.uint8)\n",
        "product = np.zeros((3,3), dtype=np.uint8)\n",
        "img_arr3 = np.zeros((np.size(img_arr, 0),np.size(img_arr, 1)), dtype = np.uint8)\n",
        "\n",
        "for i in range(wall, np.size(img_arr, 0)-wall):\n",
        "  for j in range(wall, np.size(img_arr, 1)-wall):\n",
        "    temp = img_arr[i-wall:i+1+wall:1, j-wall:j+1+wall:1]\n",
        "    flag = 1\n",
        "    for x in range(3):\n",
        "      for y in range(3):\n",
        "        if kernal[x][y] == 1 and temp[x][y] != 1:\n",
        "          img_arr2[i][j] = 0\n",
        "          flag = 0\n",
        "          break\n",
        "      if flag == 0:\n",
        "        break\n",
        "    img_arr3[i][j] = img_arr[i][j] - img_arr2[i][j]\n",
        "    img_arr3[i][j] = img_arr3[i][j] * 255\n",
        "\n",
        "img2 = Image.fromarray(img_arr3)\n",
        "img2"
      ]
    }
  ]
}